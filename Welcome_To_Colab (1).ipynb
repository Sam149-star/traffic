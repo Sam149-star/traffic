{
 "cells": [
  {
   "cell_type": "markdown",
   "id": "8302ca9c",
   "metadata": {},
   "source": [
    "# 🚦 Smart Traffic Insights Notebook\n",
    "This notebook demonstrates preprocessing, model training, and evaluation."
   ]
  },
  {
   "cell_type": "code",
   "execution_count": null,
   "id": "d43b6057",
   "metadata": {},
   "outputs": [],
   "source": [
    "import pandas as pd\n",
    "import numpy as np\n",
    "from sklearn.model_selection import train_test_split\n",
    "from sklearn.ensemble import RandomForestClassifier\n",
    "from sklearn.metrics import classification_report, accuracy_score"
   ]
  },
  {
   "cell_type": "code",
   "execution_count": null,
   "id": "390687e9",
   "metadata": {},
   "outputs": [],
   "source": [
    "# Example workflow (dummy)\n",
    "# Load dataset\n",
    "# df = pd.read_csv('traffic.csv')\n",
    "\n",
    "# For now, create dummy data\n",
    "data = pd.DataFrame({\n",
    "    'hour':[8,9,17,18,20],\n",
    "    'traffic':[100,120,300,500,50]\n",
    "})\n",
    "\n",
    "# Create traffic level\n",
    "data['level'] = pd.qcut(data['traffic'], 3, labels=['Low','Mid','High'])\n",
    "\n",
    "X = data[['hour','traffic']]\n",
    "y = data['level']\n",
    "\n",
    "X_train, X_test, y_train, y_test = train_test_split(X,y,test_size=0.2,random_state=42)\n",
    "\n",
    "model = RandomForestClassifier(random_state=42)\n",
    "model.fit(X_train,y_train)\n",
    "y_pred = model.predict(X_test)\n",
    "\n",
    "print('Accuracy:',accuracy_score(y_test,y_pred))\n",
    "print(classification_report(y_test,y_pred))"
   ]
  }
 ],
 "metadata": {},
 "nbformat": 4,
 "nbformat_minor": 5
}
